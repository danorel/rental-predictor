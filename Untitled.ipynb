{
 "cells": [
  {
   "cell_type": "code",
   "execution_count": 12,
   "metadata": {},
   "outputs": [],
   "source": [
    "import pandas_profiling as pp\n",
    "from pandas import read_csv"
   ]
  },
  {
   "cell_type": "code",
   "execution_count": 13,
   "metadata": {},
   "outputs": [],
   "source": [
    "NUMERICAL_FEATURES = [\n",
    "    'year',\n",
    "    'floor',\n",
    "    'rooms',\n",
    "    'total_area',\n",
    "    'living_area',\n",
    "    'longitude',\n",
    "    'latitude'\n",
    "]\n",
    "\n",
    "BOOLEAN_FEATURES = [\n",
    "    'price_verification',\n",
    "    'apartment_verification'\n",
    "]\n",
    "\n",
    "CATEGORIAL_FEATURES = [\n",
    "    'heating',\n",
    "    'walls',\n",
    "    'region',\n",
    "    'city',\n",
    "]\n",
    "\n",
    "TARGET = 'price'\n",
    "\n",
    "SUBSTITUTE_FEATURES = [\n",
    "    'description',\n",
    "    'image_urls'\n",
    "]\n",
    "\n",
    "USELESS_FEATURES = [\n",
    "    'title',\n",
    "    'seller',\n",
    "    'street',\n",
    "    'publish_date',\n",
    "    'offer_id',\n",
    "    'apartment_id'\n",
    "]\n"
   ]
  },
  {
   "cell_type": "code",
   "execution_count": 14,
   "metadata": {},
   "outputs": [],
   "source": [
    "def extract_X_y(\n",
    "        df,\n",
    "        target\n",
    "):\n",
    "    \"\"\"\n",
    "    Get numpy arrays from pandas data frame\n",
    "    :type df: pd.DataFrame\n",
    "    :type target: str\n",
    "    \"\"\"\n",
    "    return np.array(df.loc[:, df.columns != target]), np.array(df.loc[:, df.columns == target])"
   ]
  },
  {
   "cell_type": "code",
   "execution_count": 15,
   "metadata": {},
   "outputs": [],
   "source": [
    "def load_dataset(\n",
    "        csv,\n",
    "        target,\n",
    "        categorial_features,\n",
    "        boolean_features,\n",
    "        numerical_features,\n",
    "        useless_features,\n",
    "        substitute_features\n",
    ") -> tuple:\n",
    "    \"\"\"\n",
    "    Load the dataset, preprocess it, split it in X, y numpy variables\n",
    "    :type csv: str\n",
    "    :type target: str\n",
    "    :type categorial_features: list\n",
    "    :type boolean_features: list\n",
    "    :type numerical_features: list\n",
    "    :type useless_features: list\n",
    "    :type substitute_features: list\n",
    "    \"\"\"\n",
    "    print(\"Collecting the data from csv file...\")\n",
    "    df = pd.read_csv(csv)\n",
    "    print(\"Substituting the features...\")\n",
    "    df = substitute(\n",
    "        df=df,\n",
    "        substitute_features=substitute_features\n",
    "    )\n",
    "    print(\"Dropping the useless features...\")\n",
    "    df.drop(\n",
    "        columns=useless_features,\n",
    "        inplace=True\n",
    "    )\n",
    "    print(\"Filling the NA values...\")\n",
    "    df.fillna(\n",
    "        value=df.mean(),\n",
    "        inplace=True\n",
    "    )\n",
    "    print(\"Scaling the numeric features...\")\n",
    "    df = scale_features(\n",
    "        df=df,\n",
    "        numeric_features=numerical_features\n",
    "    )\n",
    "    print(\"Performing one-hot-encoding...\")\n",
    "    df = pd.get_dummies(\n",
    "        data=df,\n",
    "        columns=(categorial_features + boolean_features),\n",
    "    )\n",
    "    print(\"Extracting the X, y features from the pandas DataFrame object...\")\n",
    "    X, y = extract_X_y(\n",
    "        df=df,\n",
    "        target=target\n",
    "    )\n",
    "    return X, y"
   ]
  },
  {
   "cell_type": "code",
   "execution_count": 9,
   "metadata": {},
   "outputs": [
    {
     "ename": "TypeError",
     "evalue": "load_dataset() missing 7 required positional arguments: 'csv', 'target', 'categorial_features', 'boolean_features', 'numerical_features', 'useless_features', and 'substitute_features'",
     "output_type": "error",
     "traceback": [
      "\u001b[0;31m---------------------------------------------------------------------------\u001b[0m",
      "\u001b[0;31mTypeError\u001b[0m                                 Traceback (most recent call last)",
      "\u001b[0;32m<ipython-input-9-84ba5c7583a6>\u001b[0m in \u001b[0;36m<module>\u001b[0;34m\u001b[0m\n\u001b[0;32m----> 1\u001b[0;31m load_dataset(\n\u001b[0m\u001b[1;32m      2\u001b[0m )\n",
      "\u001b[0;31mTypeError\u001b[0m: load_dataset() missing 7 required positional arguments: 'csv', 'target', 'categorial_features', 'boolean_features', 'numerical_features', 'useless_features', and 'substitute_features'"
     ]
    }
   ],
   "source": [
    "load_dataset(\n",
    "    csv='data.csv',\n",
    "    target=TARGET,\n",
    "    categorial_features=CATEGORIAL_FEATURES,\n",
    "    boolean_features=BOOLEAN_FEATURES,\n",
    "    \n",
    ")"
   ]
  },
  {
   "cell_type": "code",
   "execution_count": null,
   "metadata": {},
   "outputs": [],
   "source": [
    "pp.ProfileReport()"
   ]
  },
  {
   "cell_type": "code",
   "execution_count": null,
   "metadata": {},
   "outputs": [],
   "source": []
  }
 ],
 "metadata": {
  "kernelspec": {
   "display_name": "Python 3",
   "language": "python",
   "name": "python3"
  },
  "language_info": {
   "codemirror_mode": {
    "name": "ipython",
    "version": 3
   },
   "file_extension": ".py",
   "mimetype": "text/x-python",
   "name": "python",
   "nbconvert_exporter": "python",
   "pygments_lexer": "ipython3",
   "version": "3.7.3"
  }
 },
 "nbformat": 4,
 "nbformat_minor": 2
}
